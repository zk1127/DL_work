{
 "cells": [
  {
   "cell_type": "code",
   "execution_count": 1,
   "metadata": {},
   "outputs": [],
   "source": [
    "import numpy as np\n",
    "import h5py"
   ]
  },
  {
   "cell_type": "code",
   "execution_count": 2,
   "metadata": {},
   "outputs": [],
   "source": [
    "def load_dataset():\n",
    "    train_dataset = h5py.File('F://data/deeplearning_2/datasets/train_catvnoncat.h5','r')\n",
    "    train_set_x_orig = np.array(train_dataset['train_set_x'][:])\n",
    "    train_set_y_orig = np.array(train_dataset['train_set_y'][:])\n",
    "    \n",
    "    test_dataset = h5py.File('F://data/deeplearning_2/datasets/test_catvnoncat.h5','r')\n",
    "    test_set_x_orig = np.array(test_dataset['test_set_x'][:])\n",
    "    test_set_y_orig = np.array(test_dataset['test_set_y'][:])\n",
    "    \n",
    "    classes = np.array(test_dataset['list_classes'][:])\n",
    "    \n",
    "    train_set_y_orig = train_set_y_orig.reshape((1,train_set_y_orig.shape[0]))\n",
    "    test_set_y_orig = test_set_y_orig.reshape((1,test_set_y_orig.shape[0]))\n",
    "    \n",
    "    return train_set_x_orig,train_set_y_orig,test_set_x_orig,test_set_y_orig,classes"
   ]
  },
  {
   "cell_type": "code",
   "execution_count": 27,
   "metadata": {},
   "outputs": [],
   "source": [
    "train_set_x_orig,train_set_y,test_set_x_orig,test_set_y,classes = load_dataset()"
   ]
  },
  {
   "cell_type": "code",
   "execution_count": 4,
   "metadata": {},
   "outputs": [],
   "source": [
    "import matplotlib.pyplot as plt"
   ]
  },
  {
   "cell_type": "code",
   "execution_count": 5,
   "metadata": {},
   "outputs": [
    {
     "data": {
      "text/plain": [
       "<matplotlib.image.AxesImage at 0x2166452fa90>"
      ]
     },
     "execution_count": 5,
     "metadata": {},
     "output_type": "execute_result"
    },
    {
     "data": {
      "image/png": "[encoded data removed]",
      "text/plain": [
       "<matplotlib.figure.Figure at 0x216624c07b8>"
      ]
     },
     "metadata": {},
     "output_type": "display_data"
    }
   ],
   "source": [
    "plt.imshow(train_set_x_orig[25])"
   ]
  },
  {
   "cell_type": "code",
   "execution_count": 28,
   "metadata": {},
   "outputs": [
    {
     "name": "stdout",
     "output_type": "stream",
     "text": [
      "1\n"
     ]
    }
   ],
   "source": [
    "print(train_set_y[0,25])"
   ]
  },
  {
   "cell_type": "code",
   "execution_count": 7,
   "metadata": {},
   "outputs": [
    {
     "name": "stdout",
     "output_type": "stream",
     "text": [
      "[b'non-cat' b'cat']\n"
     ]
    }
   ],
   "source": [
    "print(classes)"
   ]
  },
  {
   "cell_type": "code",
   "execution_count": 29,
   "metadata": {},
   "outputs": [
    {
     "data": {
      "text/plain": [
       "64"
      ]
     },
     "execution_count": 29,
     "metadata": {},
     "output_type": "execute_result"
    }
   ],
   "source": [
    "m_train = train_set_y.shape[1]\n",
    "m_test = test_set_y.shape[1]\n",
    "num_px = train_set_x_orig.shape[1]\n",
    "num_px"
   ]
  },
  {
   "cell_type": "code",
   "execution_count": 9,
   "metadata": {},
   "outputs": [],
   "source": [
    "train_set_x_flatten = train_set_x_orig.reshape(train_set_x_orig.shape[0],-1).T\n",
    "test_set_x_flatten = test_set_x_orig.reshape(test_set_x_orig.shape[0],-1).T    # 将图片数组降维"
   ]
  },
  {
   "cell_type": "code",
   "execution_count": 10,
   "metadata": {},
   "outputs": [
    {
     "data": {
      "text/plain": [
       "(12288, 209)"
      ]
     },
     "execution_count": 10,
     "metadata": {},
     "output_type": "execute_result"
    }
   ],
   "source": [
    "train_set_x_flatten.shape"
   ]
  },
  {
   "cell_type": "code",
   "execution_count": 30,
   "metadata": {},
   "outputs": [],
   "source": [
    "train_set_x = train_set_x_flatten / 255     # 归一化\n",
    "test_set_x = test_set_x_flatten / 255"
   ]
  },
  {
   "cell_type": "code",
   "execution_count": 12,
   "metadata": {},
   "outputs": [],
   "source": [
    "def sigmoid(z):\n",
    "    return 1 / (1 +np.exp(-z))"
   ]
  },
  {
   "cell_type": "code",
   "execution_count": 32,
   "metadata": {},
   "outputs": [],
   "source": [
    "def initialize_with_zeros(dim):\n",
    "    w = np.zeros(shape=(dim,1))\n",
    "    b = 0\n",
    "    return w,b"
   ]
  },
  {
   "cell_type": "code",
   "execution_count": 17,
   "metadata": {},
   "outputs": [],
   "source": [
    "def propagate(w,b,X,Y):\n",
    "    m = X.shape[1]\n",
    "    A = sigmoid(np.dot(w.T,X) + b)\n",
    "    cost = (-1/m) * np.sum(Y*np.log(A) + (1 - Y)*(np.log(1-A)))\n",
    "    \n",
    "    dw = (1/m) * np.dot(X,(A - Y).T)\n",
    "    db = (1/m) *np.sum(A - Y)\n",
    "    \n",
    "    assert(dw.shape == w.shape)\n",
    "    assert(db.dtype == float)\n",
    "    cost = np.squeeze(cost)\n",
    "    assert(cost.shape == ())\n",
    "    grads = {\n",
    "        'dw':dw,\n",
    "        'db':db\n",
    "    }\n",
    "    \n",
    "    return (grads,cost)"
   ]
  },
  {
   "cell_type": "code",
   "execution_count": 19,
   "metadata": {},
   "outputs": [
    {
     "name": "stdout",
     "output_type": "stream",
     "text": [
      "dw = [[0.99993216]\n",
      " [1.99980262]]\n",
      "db = 0.49993523062470574\n",
      "6.000064773192205\n"
     ]
    }
   ],
   "source": [
    "# 检验一下前向广播\n",
    "w,b,X,Y = np.array([[1],[2]]) ,2,np.array([[1,2],[3,4]]),np.array([[1,0]])\n",
    "grads,cost = propagate(w,b,X,Y)\n",
    "print('dw = '+ str(grads['dw']))\n",
    "print('db = '+ str(grads['db']))\n",
    "print(cost)"
   ]
  },
  {
   "cell_type": "code",
   "execution_count": 21,
   "metadata": {},
   "outputs": [],
   "source": [
    "def optimize(w,b,X,Y,num_iterations,learning_rate,print_cost = False):\n",
    "    costs = []\n",
    "    \n",
    "    for i in range(num_iterations):\n",
    "        grads, cost = prograte(w,b,X,Y)\n",
    "        dw = grads['dw']\n",
    "        db = grads['db']\n",
    "        \n",
    "        w  = w - learning_rate * dw\n",
    "        b = b = learning_rate * db\n",
    "        \n",
    "        if i %100 == 0:\n",
    "            costs.append(cost)\n",
    "        \n",
    "        if (print_cost) and (i %100 == 0):\n",
    "            print('迭代的次数{}，误差值为：{}'.format(i,cost))\n",
    "            \n",
    "    \n",
    "    params = {\n",
    "        'w' : w,\n",
    "        'b' :b\n",
    "    }\n",
    "    grads = {\n",
    "        'dw':dw,\n",
    "        'db':db\n",
    "    }\n",
    "    \n",
    "    return (params,grads,costs)"
   ]
  },
  {
   "cell_type": "code",
   "execution_count": 22,
   "metadata": {},
   "outputs": [
    {
     "name": "stdout",
     "output_type": "stream",
     "text": [
      "w = [[0.14702687]\n",
      " [0.31813621]]\n",
      "b = 0.002676902751425007\n",
      "dw= [[0.71547724]\n",
      " [1.31034452]]\n",
      "db= 0.29743363904722303\n"
     ]
    }
   ],
   "source": [
    "# 测试optimize函数\n",
    "w,b,X,Y = np.array([[1],[2]]) ,2,np.array([[1,2],[3,4]]),np.array([[1,0]])\n",
    "params,grads,costs = optimize(w,b,X,Y,num_iterations=100,learning_rate=0.009,print_cost=False)\n",
    "\n",
    "print('w = ' + str(params['w']))\n",
    "print('b = ' + str(params['b']))\n",
    "print('dw= ' + str(grads['dw']))\n",
    "print('db= ' + str(grads['db']))"
   ]
  },
  {
   "cell_type": "code",
   "execution_count": 23,
   "metadata": {},
   "outputs": [],
   "source": [
    "def predict(w,b,X):\n",
    "    m = X.shape[1]\n",
    "    Y_prediction = np.zeros((1,m))\n",
    "    w = w.reshape(X.shape[0],1)\n",
    "    \n",
    "    A = sigmoid(np.dot(w.T,X) + b)\n",
    "    for i in range(A.shape[1]):\n",
    "        Y_prediction[0,i] = 1 if A[0,i] > 0.5 else 0\n",
    "        \n",
    "    assert(Y_prediction.shape == (1,m))\n",
    "    \n",
    "    return Y_prediction"
   ]
  },
  {
   "cell_type": "code",
   "execution_count": 24,
   "metadata": {},
   "outputs": [
    {
     "name": "stdout",
     "output_type": "stream",
     "text": [
      "predict = [[1. 1.]]\n"
     ]
    }
   ],
   "source": [
    "# 测试predict\n",
    "w,b,X,Y = np.array([[1],[2]]) ,2,np.array([[1,2],[3,4]]),np.array([[1,0]])\n",
    "print('predict = '+str(predict(w,b,X)))"
   ]
  },
  {
   "cell_type": "code",
   "execution_count": 34,
   "metadata": {},
   "outputs": [],
   "source": [
    "def model(X_train,Y_train,X_test,Y_test,num_iterations = 2000,learning_rate = 0.1,print_cost = False):\n",
    "    w,b = initialize_with_zeros(X_train.shape[0])\n",
    "    paramters,grads,costs = optimize(w,b,X_train,Y_train,num_iterations,learning_rate,print_cost)\n",
    "    \n",
    "    w,b = paramters['w'],paramters['b']\n",
    "    \n",
    "    Y_prediction_test = predict(w,b,X_test)\n",
    "    Y_prediction_train = predict(w,b,X_train)\n",
    "    print('训练集准确性：{}'.format(100 - np.mean(np.abs(Y_prediction_train - Y_train) * 100)) + '%')\n",
    "    print('测试集准确性：{}'.format(100 - np.mean(np.abs(Y_prediction_test - Y_test) * 100)) + '%')\n",
    "    \n",
    "    d = {\n",
    "        'costs' : costs,\n",
    "        'Y_prediction_test':Y_prediction_test,\n",
    "        'Y_prediction_train':Y_prediction_train,\n",
    "        'w':w,\n",
    "        'b':b,\n",
    "        'learning_rate':learning_rate,\n",
    "        'num_iterations':num_iterations\n",
    "    }\n",
    "    \n",
    "    return d"
   ]
  },
  {
   "cell_type": "code",
   "execution_count": 35,
   "metadata": {},
   "outputs": [
    {
     "name": "stdout",
     "output_type": "stream",
     "text": [
      "迭代的次数0，误差值为：0.6931471805599453\n",
      "迭代的次数100，误差值为：0.5837469055964836\n",
      "迭代的次数200，误差值为：0.4661196209181713\n",
      "迭代的次数300，误差值为：0.37546464291440496\n",
      "迭代的次数400，误差值为：0.3315308259031981\n",
      "迭代的次数500，误差值为：0.3033219663656161\n",
      "迭代的次数600，误差值为：0.2799143119488366\n",
      "迭代的次数700，误差值为：0.2600662739368431\n",
      "迭代的次数800，误差值为：0.24295691367348057\n",
      "迭代的次数900，误差值为：0.22801455569676407\n",
      "迭代的次数1000，误差值为：0.21482546944644004\n",
      "迭代的次数1100，误差值为：0.20308091800551767\n",
      "迭代的次数1200，误差值为：0.19254464684891437\n",
      "迭代的次数1300，误差值为：0.18303200886627333\n",
      "迭代的次数1400，误差值为：0.1743960641752385\n",
      "迭代的次数1500，误差值为：0.16651804035607828\n",
      "迭代的次数1600，误差值为：0.1593006158213813\n",
      "迭代的次数1700，误差值为：0.15266308558804736\n",
      "迭代的次数1800，误差值为：0.1465378139365669\n",
      "迭代的次数1900，误差值为：0.14086758596013874\n",
      "训练集准确性：99.04306220095694%\n",
      "测试集准确性：70.0%\n"
     ]
    }
   ],
   "source": [
    "# 测试model\n",
    "d = model(train_set_x,train_set_y,test_set_x,test_set_y,num_iterations=2000,learning_rate=0.005,print_cost=True)"
   ]
  },
  {
   "cell_type": "code",
   "execution_count": 37,
   "metadata": {},
   "outputs": [
    {
     "data": {
      "image/png": "[encoded data removed]",
      "text/plain": [
       "<matplotlib.figure.Figure at 0x216686d8470>"
      ]
     },
     "metadata": {},
     "output_type": "display_data"
    }
   ],
   "source": [
    "# 绘制图\n",
    "costs = np.squeeze(d['costs'])\n",
    "plt.plot(costs)\n",
    "plt.ylabel('cost')\n",
    "plt.xlabel('iterations (per hundreds)')\n",
    "plt.title('learning rate is '+str(d['learning_rate']))\n",
    "plt.show()"
   ]
  },
  {
   "cell_type": "code",
   "execution_count": 40,
   "metadata": {},
   "outputs": [
    {
     "name": "stdout",
     "output_type": "stream",
     "text": [
      "learning_rate is 0.01\n",
      "训练集准确性：99.52153110047847%\n",
      "测试集准确性：68.0%\n",
      "\n",
      "-----------------------------------------\n",
      "\n",
      "learning_rate is 0.001\n",
      "训练集准确性：88.99521531100478%\n",
      "测试集准确性：64.0%\n",
      "\n",
      "-----------------------------------------\n",
      "\n",
      "learning_rate is 0.005\n",
      "训练集准确性：97.60765550239235%\n",
      "测试集准确性：70.0%\n",
      "\n",
      "-----------------------------------------\n",
      "\n"
     ]
    },
    {
     "data": {
      "image/png": "[encoded data removed]",
      "text/plain": [
       "<matplotlib.figure.Figure at 0x2166484e320>"
      ]
     },
     "metadata": {},
     "output_type": "display_data"
    }
   ],
   "source": [
    "# 分析学习速率的影响\n",
    "learning_rates = [0.01,0.001,0.005]\n",
    "models = {}\n",
    "for i in learning_rates:\n",
    "    print('learning_rate is ' + str(i))\n",
    "    models[str(i)] =  model(train_set_x,train_set_y,test_set_x,test_set_y,num_iterations=1500,learning_rate=i,print_cost=False)\n",
    "    print('\\n' + '-----------------------------------------'+'\\n')\n",
    "    \n",
    "for i in learning_rates:\n",
    "    plt.plot(np.squeeze(models[str(i)]['costs']),label = str(models[str(i)]['learning_rate']))\n",
    "    \n",
    "plt.ylabel('cost')\n",
    "plt.xlabel('iterations')\n",
    "\n",
    "legend = plt.legend(loc = 'upper center',shadow = True)\n",
    "frame = legend.get_frame()\n",
    "frame.set_facecolor('0.90')\n",
    "plt.show()"
   ]
  },
  {
   "cell_type": "code",
   "execution_count": null,
   "metadata": {},
   "outputs": [],
   "source": []
  }
 ],
 "metadata": {
  "kernelspec": {
   "display_name": "Python 3",
   "language": "python",
   "name": "python3"
  },
  "language_info": {
   "codemirror_mode": {
    "name": "ipython",
    "version": 3
   },
   "file_extension": ".py",
   "mimetype": "text/x-python",
   "name": "python",
   "nbconvert_exporter": "python",
   "pygments_lexer": "ipython3",
   "version": "3.6.4"
  }
 },
 "nbformat": 4,
 "nbformat_minor": 2
}
