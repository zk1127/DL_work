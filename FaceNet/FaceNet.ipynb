{
 "cells": [
  {
   "cell_type": "code",
   "execution_count": 5,
   "metadata": {},
   "outputs": [],
   "source": [
    "from keras.models import Sequential\n",
    "from keras.layers import Conv2D,ZeroPadding2D,Activation,Input,concatenate\n",
    "from keras.models import Model\n",
    "from keras.layers.normalization import BatchNormalization\n",
    "from keras.layers.pooling import MaxPooling2D,AveragePooling2D\n",
    "from keras.layers.merge import Concatenate\n",
    "from keras.layers.core import Lambda,Flatten,Dense\n",
    "from keras.initializers import glorot_uniform\n",
    "from keras.engine.topology import Layer\n",
    "from keras import backend as K\n",
    "\n",
    "from IPython.display import SVG\n",
    "from keras.utils.vis_utils import model_to_dot\n",
    "from keras.utils import plot_model\n",
    "\n",
    "K.set_image_data_format('channels_first')\n",
    "\n",
    "import time\n",
    "import os\n",
    "import numpy as np\n",
    "from numpy import genfromtxt\n",
    "import pandas as pd\n",
    "import tensorflow as tf\n",
    "import fr_utils\n",
    "from inception_blocks_v2 import *\n",
    "\n",
    "%matplotlib inline\n",
    "%load_ext autoreload\n",
    "%autoreload 2\n",
    "\n",
    "np.set_printoptions(threshold=np.nan)"
   ]
  },
  {
   "cell_type": "code",
   "execution_count": 7,
   "metadata": {},
   "outputs": [
    {
     "name": "stdout",
     "output_type": "stream",
     "text": [
      "参数数量：3743280\n"
     ]
    }
   ],
   "source": [
    "FRmodel = faceRecoModel(input_shape=(3,96,96))\n",
    "print('参数数量：'+str(FRmodel.count_params()))"
   ]
  },
  {
   "cell_type": "code",
   "execution_count": 15,
   "metadata": {},
   "outputs": [],
   "source": [
    "def triplet_loss(y_true,y_pred,alpha=0.2):\n",
    "    '''\n",
    "    三元组损失函数\n",
    "    参数：\n",
    "        y_true-- true标签，当你在Keras里定义了一个损失函数的时候需要他\n",
    "        y_pred--列表类型，包含以下参数\n",
    "            anchor--给定的“anchor”图像的编码，维度为(None,128)\n",
    "            positive--给定的“positive”图像的编码，维度为(None,128)\n",
    "            negative--给定的“negative”图像的编码，维度为(None,128)\n",
    "        alpha--超参数，阈值\n",
    "        \n",
    "    返回:\n",
    "        loss --实数，损失值\n",
    "    '''\n",
    "    # 获取图像编码\n",
    "    anchor,positive,negative = y_pred[0],y_pred[1],y_pred[2]\n",
    "    # 计算anchor和positive的编码距离\n",
    "    pos_dist = tf.reduce_sum(tf.square(tf.subtract(anchor,positive)),axis=-1)\n",
    "    # 计算anchor和negative的编码距离\n",
    "    neg_dis = tf.reduce_sum(tf.square(tf.subtract(anchor,negative)),axis=-1)\n",
    "    # 减去之前的两个距离，加上alpha\n",
    "    basic_loss = tf.add(tf.subtract(pos_dist,neg_dis),alpha)\n",
    "    \n",
    "    loss = tf.reduce_sum(tf.maximum(basic_loss,0))\n",
    "    \n",
    "    return loss"
   ]
  },
  {
   "cell_type": "code",
   "execution_count": 16,
   "metadata": {},
   "outputs": [
    {
     "name": "stdout",
     "output_type": "stream",
     "text": [
      "528.1432\n"
     ]
    }
   ],
   "source": [
    "with tf.Session() as test:\n",
    "    tf.set_random_seed(1)\n",
    "    y_true = (None,None,None)\n",
    "    y_pred = (tf.random_normal([3,128],mean=6,stddev=0.1,seed=1),\n",
    "             tf.random_normal([3,128],mean=1,stddev=1,seed=1),\n",
    "             tf.random_normal([3,128],mean=3,stddev=4,seed=1),)\n",
    "    loss = triplet_loss(y_true,y_pred)\n",
    "    print(str(loss.eval()))"
   ]
  },
  {
   "cell_type": "code",
   "execution_count": 17,
   "metadata": {},
   "outputs": [
    {
     "name": "stdout",
     "output_type": "stream",
     "text": [
      "执行用时：2.5898244409852分钟，35.389466459112015秒。\n"
     ]
    }
   ],
   "source": [
    "start_time = time.clock()\n",
    "\n",
    "FRmodel.compile(optimizer='adam',loss=triplet_loss,metrics=['accuracy'])\n",
    "fr_utils.load_weights_from_FaceNet(FRmodel)\n",
    "\n",
    "end_time = time.clock()\n",
    "minum = end_time - start_time\n",
    "print('执行用时：' + str(minum/60)+'分钟，'+str(minum%60)+'秒。')"
   ]
  },
  {
   "cell_type": "code",
   "execution_count": 18,
   "metadata": {},
   "outputs": [],
   "source": [
    "database = {}\n",
    "database[\"danielle\"] = fr_utils.img_to_encoding(\"images/danielle.png\", FRmodel)\n",
    "database[\"younes\"] = fr_utils.img_to_encoding(\"images/younes.jpg\", FRmodel)\n",
    "database[\"tian\"] = fr_utils.img_to_encoding(\"images/tian.jpg\", FRmodel)\n",
    "database[\"andrew\"] = fr_utils.img_to_encoding(\"images/andrew.jpg\", FRmodel)\n",
    "database[\"kian\"] = fr_utils.img_to_encoding(\"images/kian.jpg\", FRmodel)\n",
    "database[\"dan\"] = fr_utils.img_to_encoding(\"images/dan.jpg\", FRmodel)\n",
    "database[\"sebastiano\"] = fr_utils.img_to_encoding(\"images/sebastiano.jpg\", FRmodel)\n",
    "database[\"bertrand\"] = fr_utils.img_to_encoding(\"images/bertrand.jpg\", FRmodel)\n",
    "database[\"kevin\"] = fr_utils.img_to_encoding(\"images/kevin.jpg\", FRmodel)\n",
    "database[\"felix\"] = fr_utils.img_to_encoding(\"images/felix.jpg\", FRmodel)\n",
    "database[\"benoit\"] = fr_utils.img_to_encoding(\"images/benoit.jpg\", FRmodel)\n",
    "database[\"arnaud\"] = fr_utils.img_to_encoding(\"images/arnaud.jpg\", FRmodel)"
   ]
  },
  {
   "cell_type": "code",
   "execution_count": 23,
   "metadata": {},
   "outputs": [],
   "source": [
    "def verify(image_path,identify,database,model):\n",
    "    '''\n",
    "    对identify和image_path的编码进行验证\n",
    "    参数：\n",
    "        image_path--摄像头的图片\n",
    "        identify--想要验证的人的名字\n",
    "        database--字典类型，包含了成员信息和对应的编码\n",
    "        model--在keras的模型的实例\n",
    "    返回：\n",
    "        dist--摄像头图片和数据库图片编码的差距\n",
    "        is_open_door--boolean,是否该开门\n",
    "    '''\n",
    "    # 计算图像的编码，使用fr_utils.img_to_encoding(img_path,model)\n",
    "    encoding = fr_utils.img_to_encoding(image_path,model)\n",
    "    # 计算与数据库中保存编码的差距\n",
    "    dist = np.linalg.norm(encoding - database[identify])\n",
    "    if dist < 0.7:\n",
    "        print('欢迎,'+str(identify)+'回家')\n",
    "        is_door_open = True\n",
    "    else:\n",
    "        print('经过验证，你与'+str(identify)+'不符！')\n",
    "        is_door_open = False\n",
    "        \n",
    "    return dist,is_door_open"
   ]
  },
  {
   "cell_type": "code",
   "execution_count": 24,
   "metadata": {},
   "outputs": [
    {
     "name": "stdout",
     "output_type": "stream",
     "text": [
      "欢迎,younes回家\n"
     ]
    },
    {
     "data": {
      "text/plain": [
       "(0.67100745, True)"
      ]
     },
     "execution_count": 24,
     "metadata": {},
     "output_type": "execute_result"
    }
   ],
   "source": [
    "verify('images/camera_0.jpg','younes',database,FRmodel)"
   ]
  },
  {
   "cell_type": "code",
   "execution_count": 25,
   "metadata": {},
   "outputs": [
    {
     "name": "stdout",
     "output_type": "stream",
     "text": [
      "经过验证，你与kian不符！\n"
     ]
    },
    {
     "data": {
      "text/plain": [
       "(0.85800153, False)"
      ]
     },
     "execution_count": 25,
     "metadata": {},
     "output_type": "execute_result"
    }
   ],
   "source": [
    "verify('images/camera_2.jpg','kian',database,FRmodel)"
   ]
  },
  {
   "cell_type": "code",
   "execution_count": 29,
   "metadata": {},
   "outputs": [],
   "source": [
    "def who_is_it(img_path,database,model):\n",
    "    '''\n",
    "    根据指定的图片来进行人脸识别\n",
    "    参数：\n",
    "        img_path--图像地址\n",
    "        database--字典类型，包含了成员信息和对应的编码\n",
    "        model--在keras的模型的实例\n",
    "    返回：\n",
    "        min_dist -- 在数据库中与指定图像最相近的编码。\n",
    "        identity -- 字符串类型，与min_dist编码相对应的名字。\n",
    "    '''\n",
    "    encoding = fr_utils.img_to_encoding(img_path,model)\n",
    "    min_dist = 100\n",
    "    \n",
    "    for (name,db_enc) in database.items():\n",
    "        dist = np.linalg.norm(encoding-db_enc)\n",
    "        if dist < min_dist:\n",
    "            min_dist = dist\n",
    "            identify = name\n",
    "    \n",
    "    if min_dist > 0.7:\n",
    "        print('抱歉，你不在数据库的信息中')\n",
    "    else:\n",
    "        print('姓名'+str(identify)+'差距：'+str(min_dist))\n",
    "    return min_dist,identify"
   ]
  },
  {
   "cell_type": "code",
   "execution_count": 31,
   "metadata": {},
   "outputs": [
    {
     "name": "stdout",
     "output_type": "stream",
     "text": [
      "姓名younes差距：0.67100745\n"
     ]
    },
    {
     "data": {
      "text/plain": [
       "(0.67100745, 'younes')"
      ]
     },
     "execution_count": 31,
     "metadata": {},
     "output_type": "execute_result"
    }
   ],
   "source": [
    "who_is_it('images/camera_0.jpg',database,FRmodel)"
   ]
  },
  {
   "cell_type": "code",
   "execution_count": null,
   "metadata": {},
   "outputs": [],
   "source": []
  }
 ],
 "metadata": {
  "kernelspec": {
   "display_name": "Python 3",
   "language": "python",
   "name": "python3"
  },
  "language_info": {
   "codemirror_mode": {
    "name": "ipython",
    "version": 3
   },
   "file_extension": ".py",
   "mimetype": "text/x-python",
   "name": "python",
   "nbconvert_exporter": "python",
   "pygments_lexer": "ipython3",
   "version": "3.6.4"
  }
 },
 "nbformat": 4,
 "nbformat_minor": 2
}
